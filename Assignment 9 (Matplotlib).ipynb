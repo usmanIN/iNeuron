{
 "cells": [
  {
   "cell_type": "markdown",
   "metadata": {},
   "source": [
    "#### Scipy:<br/>\n",
    "\n",
    "We have the min and max temperatures in a city In India for each months of the year.<br/>\n",
    "We would like to find a function to describe this and show it graphically, the dataset given below.<br/>\n",
    "\n",
    "Task:<br/>\n",
    "1.fitting it to the periodic function<br/>\n",
    "2.plot the fit<br/>\n",
    "Data<br/>\n",
    "Max = 39, 41, 43, 47, 49, 51, 45, 38, 37, 29, 27, 25<br/>\n",
    "Min = 21, 23, 27, 28, 32, 35, 31, 28, 21, 19, 17, 18<br/>\n",
    "\n",
    "#### Expected Output:\n",
    "![title](img/output.png)"
   ]
  },
  {
   "cell_type": "code",
   "execution_count": null,
   "metadata": {},
   "outputs": [],
   "source": []
  },
  {
   "cell_type": "markdown",
   "metadata": {},
   "source": [
    "##### Matplotlib:\n",
    "This assignment is for visualization using matplotlib:\n",
    "data to use:\n",
    "\n",
    "url=https://raw.githubusercontent.com/Geoyi/Cleaning-Titanic-Data/master/titanic_original.csv\n",
    "\n",
    "titanic = pd.read_csv(url)\n",
    "\n",
    "Charts to plot:\n",
    "1. Create a pie chart presenting the male/female proportion\n",
    "2. Create a scatterplot with the Fare paid and the Age, differ the plot color by gender"
   ]
  },
  {
   "cell_type": "code",
   "execution_count": null,
   "metadata": {},
   "outputs": [],
   "source": []
  }
 ],
 "metadata": {
  "kernelspec": {
   "display_name": "Python 3",
   "language": "python",
   "name": "python3"
  },
  "language_info": {
   "codemirror_mode": {
    "name": "ipython",
    "version": 3
   },
   "file_extension": ".py",
   "mimetype": "text/x-python",
   "name": "python",
   "nbconvert_exporter": "python",
   "pygments_lexer": "ipython3",
   "version": "3.8.5"
  }
 },
 "nbformat": 4,
 "nbformat_minor": 4
}
